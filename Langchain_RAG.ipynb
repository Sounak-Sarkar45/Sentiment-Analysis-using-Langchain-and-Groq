{
 "cells": [
  {
   "cell_type": "code",
   "execution_count": 1,
   "id": "8d7db7e4",
   "metadata": {},
   "outputs": [
    {
     "name": "stdout",
     "output_type": "stream",
     "text": [
      "Ok\n"
     ]
    }
   ],
   "source": [
    "print('Ok')"
   ]
  },
  {
   "cell_type": "code",
   "execution_count": 8,
   "id": "88e58bd9",
   "metadata": {},
   "outputs": [],
   "source": [
    "import os\n",
    "from dotenv import load_dotenv\n",
    "\n",
    "from langchain_groq import ChatGroq\n",
    "from langchain_community.embeddings.fastembed import FastEmbedEmbeddings\n",
    "from langchain.text_splitter import RecursiveCharacterTextSplitter\n",
    "from langchain_community.vectorstores import FAISS\n",
    "from langchain_community.document_loaders import CSVLoader\n",
    "import langsmith\n",
    "\n",
    "# ---------- Load Env ----------\n",
    "load_dotenv()\n",
    "groq_api_key = os.getenv(\"GROQ_API_KEY\")\n",
    "\n",
    "# ---------- STEP 1: Load CSV ----------\n",
    "file_path = \"sentiment-analysis.csv\"\n",
    "loader = CSVLoader(\n",
    "    file_path=file_path,\n",
    "    source_column=\"Text\",\n",
    "    metadata_columns=[\"Sentiment\", \"Source\", \"Date/Time\", \"User ID\", \"Location\", \"Confidence Score\"]\n",
    ")\n",
    "data = loader.load()\n",
    "\n",
    "# ---------- STEP 2: Build FAISS DB for RAG ----------\n",
    "def prepare_csv(docs):\n",
    "    text_splitter = RecursiveCharacterTextSplitter(\n",
    "        chunk_size=1000,\n",
    "        chunk_overlap=200\n",
    "    )\n",
    "    chunks = text_splitter.split_documents(docs)\n",
    "\n",
    "    embeddings = FastEmbedEmbeddings(model_name=\"BAAI/bge-large-en-v1.5\")\n",
    "    db_faiss = FAISS.from_documents(chunks, embeddings)\n",
    "    return db_faiss\n",
    "\n",
    "db_csv = prepare_csv(data)\n",
    "\n",
    "# ---------- STEP 3: Define RAG Function ----------\n",
    "def rag_tool(query: str):\n",
    "    output_retrieval = db_csv.similarity_search(query, k=5)\n",
    "    \n",
    "    # Extract just the page content without metadata for the prompt\n",
    "    retrieved_texts = [doc.page_content for doc in output_retrieval]\n",
    "    context_for_llm = \"\\n---\\n\".join(retrieved_texts) # Use a separator to distinguish between different documents\n",
    "\n",
    "    prompt = f\"\"\"\n",
    "    You are an AI assistant tasked with answering questions about customer sentiment.\n",
    "    Based on the following reviews, answer the user's question.\n",
    "    \n",
    "    Reviews context:\n",
    "    {context_for_llm}\n",
    "\n",
    "    Question:\n",
    "    {query}\n",
    "\n",
    "    Guidelines for your answer:\n",
    "    - Synthesize the information from the reviews to provide a concise, natural-sounding answer.\n",
    "    - Do not mention or include any of the metadata like 'Sentiment', 'Source', 'Date', etc.\n",
    "    - If the reviews don't contain the answer, say \"I don't have enough information to answer that question.\"\n",
    "    \"\"\"\n",
    "\n",
    "    llm = ChatGroq(model=\"llama-3.1-8b-instant\", temperature=0, api_key=groq_api_key)\n",
    "    response = llm.invoke(prompt)\n",
    "    return response.content"
   ]
  },
  {
   "cell_type": "code",
   "execution_count": 12,
   "id": "81da04f8",
   "metadata": {},
   "outputs": [
    {
     "name": "stdout",
     "output_type": "stream",
     "text": [
      "Answer: Based on the reviews, it appears that Goodreads and IMDb have the most positive reviews. However, to determine which sources have the highest proportion of positive reviews, we need to consider the total number of reviews for each source.\n",
      "\n",
      "Unfortunately, the provided reviews do not contain information about the total number of reviews for each source. Therefore, I don't have enough information to accurately determine which sources have the highest proportion of positive reviews.\n"
     ]
    }
   ],
   "source": [
    "# ---------- STEP 4: Direct Usage ----------\n",
    "if __name__ == \"__main__\":\n",
    "    query = \"Which sources have the highest proportion of positive reviews?\"\n",
    "    answer = rag_tool(query)\n",
    "    print(\"Answer:\", answer)"
   ]
  }
 ],
 "metadata": {
  "kernelspec": {
   "display_name": "agentic",
   "language": "python",
   "name": "python3"
  },
  "language_info": {
   "codemirror_mode": {
    "name": "ipython",
    "version": 3
   },
   "file_extension": ".py",
   "mimetype": "text/x-python",
   "name": "python",
   "nbconvert_exporter": "python",
   "pygments_lexer": "ipython3",
   "version": "3.10.18"
  }
 },
 "nbformat": 4,
 "nbformat_minor": 5
}
